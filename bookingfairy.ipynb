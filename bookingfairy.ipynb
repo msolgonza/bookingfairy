{
 "cells": [
  {
   "cell_type": "code",
   "execution_count": 6,
   "id": "f974c581-9ff2-4888-9c70-dc3b90afc6b4",
   "metadata": {},
   "outputs": [],
   "source": [
    "#Importamos bibliotecas\n",
    "import numpy as np\n",
    "import pandas as pd\n",
    "import matplotlib.pyplot as plt\n",
    "import seaborn as sns"
   ]
  },
  {
   "cell_type": "code",
   "execution_count": 7,
   "id": "56682297-91d4-45be-b08c-0cef0b16bc92",
   "metadata": {},
   "outputs": [],
   "source": [
    "#Llamamos al archivo csv\n",
    "bk = pd.read_csv(\"train_set.csv\")"
   ]
  },
  {
   "cell_type": "code",
   "execution_count": 15,
   "id": "01b7696b-1d07-4926-9623-15ee57b2ec22",
   "metadata": {},
   "outputs": [
    {
     "data": {
      "text/html": [
       "<div>\n",
       "<style scoped>\n",
       "    .dataframe tbody tr th:only-of-type {\n",
       "        vertical-align: middle;\n",
       "    }\n",
       "\n",
       "    .dataframe tbody tr th {\n",
       "        vertical-align: top;\n",
       "    }\n",
       "\n",
       "    .dataframe thead th {\n",
       "        text-align: right;\n",
       "    }\n",
       "</style>\n",
       "<table border=\"1\" class=\"dataframe\">\n",
       "  <thead>\n",
       "    <tr style=\"text-align: right;\">\n",
       "      <th></th>\n",
       "      <th>user_id</th>\n",
       "      <th>checkin</th>\n",
       "      <th>checkout</th>\n",
       "      <th>city_id</th>\n",
       "      <th>device_class</th>\n",
       "      <th>affiliate_id</th>\n",
       "      <th>booker_country</th>\n",
       "      <th>hotel_country</th>\n",
       "      <th>utrip_id</th>\n",
       "    </tr>\n",
       "  </thead>\n",
       "  <tbody>\n",
       "    <tr>\n",
       "      <th>0</th>\n",
       "      <td>1000027</td>\n",
       "      <td>2016-08-13</td>\n",
       "      <td>2016-08-14</td>\n",
       "      <td>8183</td>\n",
       "      <td>desktop</td>\n",
       "      <td>7168</td>\n",
       "      <td>Elbonia</td>\n",
       "      <td>Gondal</td>\n",
       "      <td>1000027_1</td>\n",
       "    </tr>\n",
       "    <tr>\n",
       "      <th>1</th>\n",
       "      <td>1000027</td>\n",
       "      <td>2016-08-14</td>\n",
       "      <td>2016-08-16</td>\n",
       "      <td>15626</td>\n",
       "      <td>desktop</td>\n",
       "      <td>7168</td>\n",
       "      <td>Elbonia</td>\n",
       "      <td>Gondal</td>\n",
       "      <td>1000027_1</td>\n",
       "    </tr>\n",
       "    <tr>\n",
       "      <th>2</th>\n",
       "      <td>1000027</td>\n",
       "      <td>2016-08-16</td>\n",
       "      <td>2016-08-18</td>\n",
       "      <td>60902</td>\n",
       "      <td>desktop</td>\n",
       "      <td>7168</td>\n",
       "      <td>Elbonia</td>\n",
       "      <td>Gondal</td>\n",
       "      <td>1000027_1</td>\n",
       "    </tr>\n",
       "    <tr>\n",
       "      <th>3</th>\n",
       "      <td>1000027</td>\n",
       "      <td>2016-08-18</td>\n",
       "      <td>2016-08-21</td>\n",
       "      <td>30628</td>\n",
       "      <td>desktop</td>\n",
       "      <td>253</td>\n",
       "      <td>Elbonia</td>\n",
       "      <td>Gondal</td>\n",
       "      <td>1000027_1</td>\n",
       "    </tr>\n",
       "    <tr>\n",
       "      <th>4</th>\n",
       "      <td>1000033</td>\n",
       "      <td>2016-04-09</td>\n",
       "      <td>2016-04-11</td>\n",
       "      <td>38677</td>\n",
       "      <td>mobile</td>\n",
       "      <td>359</td>\n",
       "      <td>Gondal</td>\n",
       "      <td>Cobra Island</td>\n",
       "      <td>1000033_1</td>\n",
       "    </tr>\n",
       "  </tbody>\n",
       "</table>\n",
       "</div>"
      ],
      "text/plain": [
       "   user_id     checkin    checkout  city_id device_class  affiliate_id  \\\n",
       "0  1000027  2016-08-13  2016-08-14     8183      desktop          7168   \n",
       "1  1000027  2016-08-14  2016-08-16    15626      desktop          7168   \n",
       "2  1000027  2016-08-16  2016-08-18    60902      desktop          7168   \n",
       "3  1000027  2016-08-18  2016-08-21    30628      desktop           253   \n",
       "4  1000033  2016-04-09  2016-04-11    38677       mobile           359   \n",
       "\n",
       "  booker_country hotel_country   utrip_id  \n",
       "0        Elbonia        Gondal  1000027_1  \n",
       "1        Elbonia        Gondal  1000027_1  \n",
       "2        Elbonia        Gondal  1000027_1  \n",
       "3        Elbonia        Gondal  1000027_1  \n",
       "4         Gondal  Cobra Island  1000033_1  "
      ]
     },
     "execution_count": 15,
     "metadata": {},
     "output_type": "execute_result"
    }
   ],
   "source": [
    "#Realizamos análisis exploratorio\n",
    "bk.head()"
   ]
  },
  {
   "cell_type": "code",
   "execution_count": 16,
   "id": "8bae0efb-3e48-4aed-baae-8ec19889e44b",
   "metadata": {},
   "outputs": [
    {
     "data": {
      "text/plain": [
       "(1166835, 9)"
      ]
     },
     "execution_count": 16,
     "metadata": {},
     "output_type": "execute_result"
    }
   ],
   "source": [
    "bk.shape"
   ]
  },
  {
   "cell_type": "code",
   "execution_count": 17,
   "id": "0571d1bd-d242-4f1a-9b71-e9fdd3e95f94",
   "metadata": {},
   "outputs": [
    {
     "data": {
      "text/plain": [
       "Index(['user_id', 'checkin', 'checkout', 'city_id', 'device_class',\n",
       "       'affiliate_id', 'booker_country', 'hotel_country', 'utrip_id'],\n",
       "      dtype='object')"
      ]
     },
     "execution_count": 17,
     "metadata": {},
     "output_type": "execute_result"
    }
   ],
   "source": [
    "bk.columns"
   ]
  },
  {
   "cell_type": "code",
   "execution_count": 18,
   "id": "f4989b39-57a6-4a70-92a0-d358dc4b9107",
   "metadata": {},
   "outputs": [
    {
     "data": {
      "text/plain": [
       "user_id            int64\n",
       "checkin           object\n",
       "checkout          object\n",
       "city_id            int64\n",
       "device_class      object\n",
       "affiliate_id       int64\n",
       "booker_country    object\n",
       "hotel_country     object\n",
       "utrip_id          object\n",
       "dtype: object"
      ]
     },
     "execution_count": 18,
     "metadata": {},
     "output_type": "execute_result"
    }
   ],
   "source": [
    "bk.dtypes"
   ]
  },
  {
   "cell_type": "code",
   "execution_count": 19,
   "id": "6ee0502f-85d4-4ece-b94c-4f1af555c8b8",
   "metadata": {},
   "outputs": [
    {
     "data": {
      "text/plain": [
       "user_id           0\n",
       "checkin           0\n",
       "checkout          0\n",
       "city_id           0\n",
       "device_class      0\n",
       "affiliate_id      0\n",
       "booker_country    0\n",
       "hotel_country     0\n",
       "utrip_id          0\n",
       "dtype: int64"
      ]
     },
     "execution_count": 19,
     "metadata": {},
     "output_type": "execute_result"
    }
   ],
   "source": [
    "bk.isna().sum()"
   ]
  },
  {
   "cell_type": "code",
   "execution_count": 20,
   "id": "6388a326-df2e-4e5d-935f-c03bb5680d6f",
   "metadata": {},
   "outputs": [
    {
     "data": {
      "text/plain": [
       "user_id           0\n",
       "checkin           0\n",
       "checkout          0\n",
       "city_id           0\n",
       "device_class      0\n",
       "affiliate_id      0\n",
       "booker_country    0\n",
       "hotel_country     0\n",
       "utrip_id          0\n",
       "dtype: int64"
      ]
     },
     "execution_count": 20,
     "metadata": {},
     "output_type": "execute_result"
    }
   ],
   "source": [
    "bk.isnull().sum()"
   ]
  },
  {
   "cell_type": "code",
   "execution_count": 21,
   "id": "6c5a8204-f162-4390-822f-4f0617884a0c",
   "metadata": {},
   "outputs": [
    {
     "data": {
      "text/html": [
       "<div>\n",
       "<style scoped>\n",
       "    .dataframe tbody tr th:only-of-type {\n",
       "        vertical-align: middle;\n",
       "    }\n",
       "\n",
       "    .dataframe tbody tr th {\n",
       "        vertical-align: top;\n",
       "    }\n",
       "\n",
       "    .dataframe thead th {\n",
       "        text-align: right;\n",
       "    }\n",
       "</style>\n",
       "<table border=\"1\" class=\"dataframe\">\n",
       "  <thead>\n",
       "    <tr style=\"text-align: right;\">\n",
       "      <th></th>\n",
       "      <th>user_id</th>\n",
       "      <th>checkin</th>\n",
       "      <th>checkout</th>\n",
       "      <th>city_id</th>\n",
       "      <th>device_class</th>\n",
       "      <th>affiliate_id</th>\n",
       "      <th>booker_country</th>\n",
       "      <th>hotel_country</th>\n",
       "      <th>utrip_id</th>\n",
       "    </tr>\n",
       "  </thead>\n",
       "  <tbody>\n",
       "    <tr>\n",
       "      <th>0</th>\n",
       "      <td>1000027</td>\n",
       "      <td>2016-08-13</td>\n",
       "      <td>2016-08-14</td>\n",
       "      <td>8183</td>\n",
       "      <td>desktop</td>\n",
       "      <td>7168</td>\n",
       "      <td>Elbonia</td>\n",
       "      <td>Gondal</td>\n",
       "      <td>1000027_1</td>\n",
       "    </tr>\n",
       "    <tr>\n",
       "      <th>1</th>\n",
       "      <td>1000027</td>\n",
       "      <td>2016-08-14</td>\n",
       "      <td>2016-08-16</td>\n",
       "      <td>15626</td>\n",
       "      <td>desktop</td>\n",
       "      <td>7168</td>\n",
       "      <td>Elbonia</td>\n",
       "      <td>Gondal</td>\n",
       "      <td>1000027_1</td>\n",
       "    </tr>\n",
       "    <tr>\n",
       "      <th>2</th>\n",
       "      <td>1000027</td>\n",
       "      <td>2016-08-16</td>\n",
       "      <td>2016-08-18</td>\n",
       "      <td>60902</td>\n",
       "      <td>desktop</td>\n",
       "      <td>7168</td>\n",
       "      <td>Elbonia</td>\n",
       "      <td>Gondal</td>\n",
       "      <td>1000027_1</td>\n",
       "    </tr>\n",
       "    <tr>\n",
       "      <th>3</th>\n",
       "      <td>1000027</td>\n",
       "      <td>2016-08-18</td>\n",
       "      <td>2016-08-21</td>\n",
       "      <td>30628</td>\n",
       "      <td>desktop</td>\n",
       "      <td>253</td>\n",
       "      <td>Elbonia</td>\n",
       "      <td>Gondal</td>\n",
       "      <td>1000027_1</td>\n",
       "    </tr>\n",
       "    <tr>\n",
       "      <th>4</th>\n",
       "      <td>1000033</td>\n",
       "      <td>2016-04-09</td>\n",
       "      <td>2016-04-11</td>\n",
       "      <td>38677</td>\n",
       "      <td>mobile</td>\n",
       "      <td>359</td>\n",
       "      <td>Gondal</td>\n",
       "      <td>Cobra Island</td>\n",
       "      <td>1000033_1</td>\n",
       "    </tr>\n",
       "  </tbody>\n",
       "</table>\n",
       "</div>"
      ],
      "text/plain": [
       "   user_id     checkin    checkout  city_id device_class  affiliate_id  \\\n",
       "0  1000027  2016-08-13  2016-08-14     8183      desktop          7168   \n",
       "1  1000027  2016-08-14  2016-08-16    15626      desktop          7168   \n",
       "2  1000027  2016-08-16  2016-08-18    60902      desktop          7168   \n",
       "3  1000027  2016-08-18  2016-08-21    30628      desktop           253   \n",
       "4  1000033  2016-04-09  2016-04-11    38677       mobile           359   \n",
       "\n",
       "  booker_country hotel_country   utrip_id  \n",
       "0        Elbonia        Gondal  1000027_1  \n",
       "1        Elbonia        Gondal  1000027_1  \n",
       "2        Elbonia        Gondal  1000027_1  \n",
       "3        Elbonia        Gondal  1000027_1  \n",
       "4         Gondal  Cobra Island  1000033_1  "
      ]
     },
     "execution_count": 21,
     "metadata": {},
     "output_type": "execute_result"
    }
   ],
   "source": [
    "bk.head()"
   ]
  },
  {
   "cell_type": "code",
   "execution_count": 23,
   "id": "34106191-eec3-4351-93ce-b35a31ddb77d",
   "metadata": {},
   "outputs": [
    {
     "data": {
      "text/plain": [
       "hotel_country\n",
       "Cobra Island    1.180895e-01\n",
       "Fook Island     1.008857e-01\n",
       "Gondal          8.996902e-02\n",
       "Glubbdubdrib    6.413932e-02\n",
       "Elbonia         4.624904e-02\n",
       "                    ...     \n",
       "Nuevo Rico      8.570192e-07\n",
       "New Germany     8.570192e-07\n",
       "Medici          8.570192e-07\n",
       "Utopia          8.570192e-07\n",
       "Norteguay       8.570192e-07\n",
       "Name: proportion, Length: 195, dtype: float64"
      ]
     },
     "execution_count": 23,
     "metadata": {},
     "output_type": "execute_result"
    }
   ],
   "source": [
    "#Qué frecuencia relativa tiene cada país\n",
    "bk[\"hotel_country\"].value_counts(normalize=True)"
   ]
  },
  {
   "cell_type": "code",
   "execution_count": 31,
   "id": "4f07b221-8c98-4dc9-82e5-81e38b12cba8",
   "metadata": {},
   "outputs": [
    {
     "name": "stdout",
     "output_type": "stream",
     "text": [
      "['Gondal' 'Cobra Island' 'Fook Island' 'Carpathia' 'Osterlich' 'Kamistan'\n",
      " 'Kangan' 'Rook Islands' 'Bartovia' 'Leutonia' 'Urkesh' 'Patusan'\n",
      " 'Glubbdubdrib' 'Alvonia' 'Elbonia' 'San Sombrèro' 'Novistrana' 'Aldovia'\n",
      " 'Palombia' 'Trans-Carpathia' 'Genosha' 'Santa Prisca' 'Borginia'\n",
      " 'Carjackistan' 'Dawsbergen' 'Axphain' 'Holy Britannian Empire' 'Idris'\n",
      " 'Sokovia' 'Norland' 'Syldavia' 'Sylvania' 'Mypos' 'Chernarus' 'Rolisica'\n",
      " 'Drusselstein' 'Yerba' 'Kasnia' 'São Rico' 'The Devilfire Empire'\n",
      " 'Republic of New Rearendia' 'Grinlandia' 'Turgistan' 'Edonia' 'Bozatta'\n",
      " 'Grand Fenwick' 'Pullamawang' 'Bahavia' 'Panem' 'Merania, Kingdom of'\n",
      " 'Zephyria' 'Marina Venetta' 'Brobdingnag' 'Kumbolaland' 'Nova Africa'\n",
      " 'Svenborgia' 'Lilliput' 'Bultan' 'Robo-Hungarian Empire' 'Nevoruss'\n",
      " 'Aslerfan' 'Tcherkistan' 'Oceania' 'Uqbar' 'San Marcos' 'Bahari'\n",
      " 'Slovetzia' 'Atlantis' 'Pokrovia' 'Durhan' 'Slaka'\n",
      " 'Russian Democratic Union' 'Coalition States' 'North American Union'\n",
      " 'Gérolstein' 'Ragaan' 'Borostyria' 'Graznavia' 'Buranda' 'Grenyarnia'\n",
      " 'Bandaria' 'Wadiya' 'Sarkhan' 'Braganza, Dominion of' 'Kazahrus'\n",
      " 'Altis and Stratis, Republic of' 'Bangalla' 'Samavia' 'Vadeem'\n",
      " 'Isle of Fogg' 'Zekistan' 'Yudonia' 'Bacteria' 'San Lorenzo' 'Poictesme'\n",
      " 'Lugash' 'Naruba' 'Datlof' 'Mundania' 'Laurania'\n",
      " 'Novoselic, The Kingdom of' 'Qasha' 'Marshovia' 'Sunda' 'Isla Island'\n",
      " \"Khura'in\" 'Eurasia' 'Franchia' 'Krakozhia' 'Nerdocrumbesia'\n",
      " 'Flausenthurm' 'Bolumbia' 'Aldorria' 'Shangri-La' 'Nairomi' 'Maltovia'\n",
      " 'Veyshnoria' 'Feldenberg' 'Outer Heaven' 'Danu' 'Basran'\n",
      " 'Congaree Socialist Republic' 'Absurdistan' 'Kunami' 'Erewhon' 'Molvanîa'\n",
      " 'Halla' 'Bialya' 'Baltish' 'Urmania' 'Taronia' 'Costa Luna'\n",
      " 'San Theodoros' 'Sahrani, Kingdom of' 'Guilder' 'Nuevo Rico' 'Phaic Tăn'\n",
      " 'El Othar' 'Kyrat' 'Saint Marie' 'Kahndaq' 'Graustark'\n",
      " \"St. George's Island\" 'Moldavia' 'Sodor' 'San Serriffe' 'Gondour'\n",
      " 'Bruzundanga' 'Polrugaria' \"Penguina (L'île des Pingouins)\" 'Illyria'\n",
      " 'Genovia' 'Glovania' 'Caledonia' 'Illéa' 'Angrezi Raj' 'Vulgaria'\n",
      " 'Matobo' 'Yellow Empire' 'Squamuglia' 'Almaigne' 'Tsergovia' 'Nambutu'\n",
      " 'Gilead' 'Tyranistan' 'Pokolistan' 'San Salvador' 'Shtischtorchnia'\n",
      " 'West Angola' 'Lower Slobbovia' 'Groland' 'Tijata' 'Urk (also Uruk)'\n",
      " 'Metrofulus' 'Florin' 'Lovitzna' 'Freedonia' 'Buenaventura' 'Norteguay'\n",
      " 'Rhelasia' 'Romanza' 'Chinese Federation' 'Takistan' 'West Hun Chiu'\n",
      " 'Wredpryd' 'Sardovia' 'Kazirstan' 'Markovia' 'Tirania, Republic of'\n",
      " 'Latveria' 'New Germany' 'Moronika' 'Medici' 'Utopia' \"Babar's Kingdom\"]\n"
     ]
    }
   ],
   "source": [
    "#Qué países hay\n",
    "paises = bk[\"hotel_country\"].unique()\n",
    "print(paises)"
   ]
  },
  {
   "cell_type": "code",
   "execution_count": 33,
   "id": "9196d415-e799-44a0-985d-6633610c7afe",
   "metadata": {},
   "outputs": [
    {
     "name": "stdout",
     "output_type": "stream",
     "text": [
      "hotel_country\n",
      "Cobra Island    137791\n",
      "Fook Island     117717\n",
      "Gondal          104979\n",
      "Glubbdubdrib     74840\n",
      "Elbonia          53965\n",
      "                 ...  \n",
      "Nuevo Rico           1\n",
      "New Germany          1\n",
      "Medici               1\n",
      "Utopia               1\n",
      "Norteguay            1\n",
      "Name: count, Length: 195, dtype: int64\n"
     ]
    }
   ],
   "source": [
    "#Cantidad de reservas por país\n",
    "reservas_por_pais = bk['hotel_country'].value_counts()\n",
    "print(reservas_por_pais)"
   ]
  },
  {
   "cell_type": "code",
   "execution_count": 115,
   "id": "5e74e232-98ac-410e-bbc0-c499bf77a7ed",
   "metadata": {},
   "outputs": [
    {
     "data": {
      "image/png": "[encoded data removed]",
      "text/plain": [
       "<Figure size 1000x400 with 1 Axes>"
      ]
     },
     "metadata": {},
     "output_type": "display_data"
    }
   ],
   "source": [
    "# Seaborn\n",
    "# Filtro los 10 países con más reservas en seaborn para que sea legible\n",
    "# Obtener los 10 países más visitados\n",
    "\n",
    "top_10_paises = bk['hotel_country'].value_counts().head(10).index.tolist()\n",
    "bk_top_10 = bk[bk['hotel_country'].isin(top_10_paises)]\n",
    "plt.figure(figsize=(10, 4))  # Tamaño opcional del gráfico va primero\n",
    "sns.countplot(data=bk_top_10, x=\"hotel_country\", y=None, hue=\"hotel_country\", order=top_10_paises, palette=\"rocket\", saturation=0.5, fill=True, hue_norm=None, stat='count', width=0.8, dodge='auto', gap=0, log_scale=None, native_scale=False, formatter=None, legend='auto', ax=None)\n",
    "plt.xlabel('País')\n",
    "plt.ylabel('Cantidad de reservas')\n",
    "plt.title('Top 10 países más visitados')\n",
    "plt.xticks(rotation=0, fontsize=7)\n",
    "plt.show()"
   ]
  },
  {
   "cell_type": "code",
   "execution_count": 92,
   "id": "41f8b87b-d5c6-4180-85b0-45804c61d25f",
   "metadata": {},
   "outputs": [
    {
     "data": {
      "image/png": "[encoded data removed]",
      "text/plain": [
       "<Figure size 1000x400 with 1 Axes>"
      ]
     },
     "metadata": {},
     "output_type": "display_data"
    }
   ],
   "source": [
    "#Matplotlib\n",
    "#debe ir primero el figure size antes de crearse el plot, en pulgadas, ancho y alto\n",
    "plt.figure(figsize=(10, 4)) \n",
    "bk['hotel_country'].value_counts().head(10).plot(kind='bar')\n",
    "plt.xlabel('País')\n",
    "plt.ylabel('Cantidad de reservas')\n",
    "plt.title('Top 10 países más visitados')\n",
    "plt.xticks(rotation=0, fontsize=7)\n",
    "plt.show()"
   ]
  }
 ],
 "metadata": {
  "kernelspec": {
   "display_name": "Python 3 (ipykernel)",
   "language": "python",
   "name": "python3"
  },
  "language_info": {
   "codemirror_mode": {
    "name": "ipython",
    "version": 3
   },
   "file_extension": ".py",
   "mimetype": "text/x-python",
   "name": "python",
   "nbconvert_exporter": "python",
   "pygments_lexer": "ipython3",
   "version": "3.11.2"
  }
 },
 "nbformat": 4,
 "nbformat_minor": 5
}
